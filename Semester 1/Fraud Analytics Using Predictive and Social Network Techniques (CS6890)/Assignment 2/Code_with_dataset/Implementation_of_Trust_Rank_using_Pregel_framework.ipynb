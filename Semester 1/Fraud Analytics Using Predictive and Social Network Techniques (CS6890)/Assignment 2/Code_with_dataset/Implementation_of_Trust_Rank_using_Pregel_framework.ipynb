{
  "nbformat": 4,
  "nbformat_minor": 0,
  "metadata": {
    "colab": {
      "provenance": [],
      "collapsed_sections": [
        "Wmg5x5AKyZi9"
      ]
    },
    "kernelspec": {
      "name": "python3",
      "display_name": "Python 3"
    },
    "language_info": {
      "name": "python"
    }
  },
  "cells": [
    {
      "cell_type": "markdown",
      "source": [
        "```markdown\n",
        "# Team \n",
        "- Rahul Vigneswaran K | CS23MTECH02002\n",
        "- SarveshKumar Purohit | AI22MTECH14006\n",
        "- Rithik Agarwal | CS22MTECH11004\n",
        "- Vinayak Nambiar | AI22MTECH13005\n",
        "- Roshin Roy | AI22MTECH13006\n",
        "- Parth Nitesh Thakkar | CS22MTECH14005\n",
        "```"
      ],
      "metadata": {
        "id": "PZHMH2yB-C-5"
      }
    },
    {
      "cell_type": "markdown",
      "source": [
        "# **Implementation of Trust Rank using Pregel framework**"
      ],
      "metadata": {
        "id": "XXZt5SFG5KAU"
      }
    },
    {
      "cell_type": "markdown",
      "source": [
        "# A. Problem Statement\n",
        "The problem at hand is the identification of bad nodes in a network. Given a network with a large number of nodes and edges, the objective is to develop a method that can effectively and efficiently identify nodes that are likely to be malicious, fraudulent, or otherwise \"bad\" based on their connections to other nodes in the network. The proposed method should be able to handle noisy or incomplete data and incorporate domain-specific knowledge through the use of seed sets. The resulting algorithm should be scalable to large networks and be implemented using a distributed computing framework for efficient computation.\n",
        "\n",
        "In this work we leverage TrustRank to find bad nodes by using a set of oracle provided bad nodes as seed set. As a result, the resulting rank will be higher for bad nodes and lower for good nodes. Intuitively one can think of this as **DistrustRank**. We make use of the Pregel framework for ease of implementation."
      ],
      "metadata": {
        "id": "fb4LX_X34OLf"
      }
    },
    {
      "cell_type": "markdown",
      "source": [
        "# B. Description of the dataset\n",
        "\n",
        "The dataset used in this study, named \"Iron_dealers_data.csv\", consists of a directed graph with nodes representing iron dealers and edges representing transactions between them. Each transaction is associated with a value that represents the importance of the transaction between the seller and the buyer. It should be noted that the IDs of the nodes are mapped starting from 0 for the sake of convenience, without any loss of generality. In some cases, there may be multiple links between two nodes, in which case the links are consolidated by summing up their values. The dataset comprises 799 unique nodes, among which 96 nodes have no outgoing link. These nodes with no outlinks will cause leakage. This is handled by creating a link from each of these nodes to all the bad nodes with equal weightage.\n",
        "\n",
        "The \"bad.csv\" file contains a list of 20 bad nodes, which are used as a seed set in the study."
      ],
      "metadata": {
        "id": "F5nhbe4i4SeK"
      }
    },
    {
      "cell_type": "code",
      "source": [
        "# check if the dataset exists\n",
        "import os\n",
        "assert os.path.isfile('/content/Iron_dealers_data.csv') and os.path.isfile('/content/bad.csv'), \"Iron_dealers_data.csv and bad.csv files doesnt exist!\"\n",
        "\n",
        "import pandas as pd\n",
        "pd.read_csv('/content/Iron_dealers_data.csv')"
      ],
      "metadata": {
        "colab": {
          "base_uri": "https://localhost:8080/",
          "height": 411
        },
        "id": "1WthxNsFdA8D",
        "outputId": "7b171045-b8a8-49af-dd3d-1a917452e3d5"
      },
      "execution_count": null,
      "outputs": [
        {
          "output_type": "execute_result",
          "data": {
            "text/plain": [
              "        Seller ID  Buyer ID      Value\n",
              "0            1309      1011  1225513.0\n",
              "1            1309      1011  1179061.0\n",
              "2            1309      1011  1119561.0\n",
              "3            1309      1011  1200934.0\n",
              "4            1309      1011  1658957.0\n",
              "...           ...       ...        ...\n",
              "130530       1344      1390   212390.0\n",
              "130531       1914      1390    28739.0\n",
              "130532       1914      1390    46861.0\n",
              "130533       1914      1390    10585.0\n",
              "130534       1914      1390    14972.0\n",
              "\n",
              "[130535 rows x 3 columns]"
            ],
            "text/html": [
              "\n",
              "  <div id=\"df-6065300e-2938-4df0-b1db-532d60d0e33c\">\n",
              "    <div class=\"colab-df-container\">\n",
              "      <div>\n",
              "<style scoped>\n",
              "    .dataframe tbody tr th:only-of-type {\n",
              "        vertical-align: middle;\n",
              "    }\n",
              "\n",
              "    .dataframe tbody tr th {\n",
              "        vertical-align: top;\n",
              "    }\n",
              "\n",
              "    .dataframe thead th {\n",
              "        text-align: right;\n",
              "    }\n",
              "</style>\n",
              "<table border=\"1\" class=\"dataframe\">\n",
              "  <thead>\n",
              "    <tr style=\"text-align: right;\">\n",
              "      <th></th>\n",
              "      <th>Seller ID</th>\n",
              "      <th>Buyer ID</th>\n",
              "      <th>Value</th>\n",
              "    </tr>\n",
              "  </thead>\n",
              "  <tbody>\n",
              "    <tr>\n",
              "      <th>0</th>\n",
              "      <td>1309</td>\n",
              "      <td>1011</td>\n",
              "      <td>1225513.0</td>\n",
              "    </tr>\n",
              "    <tr>\n",
              "      <th>1</th>\n",
              "      <td>1309</td>\n",
              "      <td>1011</td>\n",
              "      <td>1179061.0</td>\n",
              "    </tr>\n",
              "    <tr>\n",
              "      <th>2</th>\n",
              "      <td>1309</td>\n",
              "      <td>1011</td>\n",
              "      <td>1119561.0</td>\n",
              "    </tr>\n",
              "    <tr>\n",
              "      <th>3</th>\n",
              "      <td>1309</td>\n",
              "      <td>1011</td>\n",
              "      <td>1200934.0</td>\n",
              "    </tr>\n",
              "    <tr>\n",
              "      <th>4</th>\n",
              "      <td>1309</td>\n",
              "      <td>1011</td>\n",
              "      <td>1658957.0</td>\n",
              "    </tr>\n",
              "    <tr>\n",
              "      <th>...</th>\n",
              "      <td>...</td>\n",
              "      <td>...</td>\n",
              "      <td>...</td>\n",
              "    </tr>\n",
              "    <tr>\n",
              "      <th>130530</th>\n",
              "      <td>1344</td>\n",
              "      <td>1390</td>\n",
              "      <td>212390.0</td>\n",
              "    </tr>\n",
              "    <tr>\n",
              "      <th>130531</th>\n",
              "      <td>1914</td>\n",
              "      <td>1390</td>\n",
              "      <td>28739.0</td>\n",
              "    </tr>\n",
              "    <tr>\n",
              "      <th>130532</th>\n",
              "      <td>1914</td>\n",
              "      <td>1390</td>\n",
              "      <td>46861.0</td>\n",
              "    </tr>\n",
              "    <tr>\n",
              "      <th>130533</th>\n",
              "      <td>1914</td>\n",
              "      <td>1390</td>\n",
              "      <td>10585.0</td>\n",
              "    </tr>\n",
              "    <tr>\n",
              "      <th>130534</th>\n",
              "      <td>1914</td>\n",
              "      <td>1390</td>\n",
              "      <td>14972.0</td>\n",
              "    </tr>\n",
              "  </tbody>\n",
              "</table>\n",
              "<p>130535 rows × 3 columns</p>\n",
              "</div>\n",
              "      <button class=\"colab-df-convert\" onclick=\"convertToInteractive('df-6065300e-2938-4df0-b1db-532d60d0e33c')\"\n",
              "              title=\"Convert this dataframe to an interactive table.\"\n",
              "              style=\"display:none;\">\n",
              "        \n",
              "  <svg xmlns=\"http://www.w3.org/2000/svg\" height=\"24px\"viewBox=\"0 0 24 24\"\n",
              "       width=\"24px\">\n",
              "    <path d=\"M0 0h24v24H0V0z\" fill=\"none\"/>\n",
              "    <path d=\"M18.56 5.44l.94 2.06.94-2.06 2.06-.94-2.06-.94-.94-2.06-.94 2.06-2.06.94zm-11 1L8.5 8.5l.94-2.06 2.06-.94-2.06-.94L8.5 2.5l-.94 2.06-2.06.94zm10 10l.94 2.06.94-2.06 2.06-.94-2.06-.94-.94-2.06-.94 2.06-2.06.94z\"/><path d=\"M17.41 7.96l-1.37-1.37c-.4-.4-.92-.59-1.43-.59-.52 0-1.04.2-1.43.59L10.3 9.45l-7.72 7.72c-.78.78-.78 2.05 0 2.83L4 21.41c.39.39.9.59 1.41.59.51 0 1.02-.2 1.41-.59l7.78-7.78 2.81-2.81c.8-.78.8-2.07 0-2.86zM5.41 20L4 18.59l7.72-7.72 1.47 1.35L5.41 20z\"/>\n",
              "  </svg>\n",
              "      </button>\n",
              "      \n",
              "  <style>\n",
              "    .colab-df-container {\n",
              "      display:flex;\n",
              "      flex-wrap:wrap;\n",
              "      gap: 12px;\n",
              "    }\n",
              "\n",
              "    .colab-df-convert {\n",
              "      background-color: #E8F0FE;\n",
              "      border: none;\n",
              "      border-radius: 50%;\n",
              "      cursor: pointer;\n",
              "      display: none;\n",
              "      fill: #1967D2;\n",
              "      height: 32px;\n",
              "      padding: 0 0 0 0;\n",
              "      width: 32px;\n",
              "    }\n",
              "\n",
              "    .colab-df-convert:hover {\n",
              "      background-color: #E2EBFA;\n",
              "      box-shadow: 0px 1px 2px rgba(60, 64, 67, 0.3), 0px 1px 3px 1px rgba(60, 64, 67, 0.15);\n",
              "      fill: #174EA6;\n",
              "    }\n",
              "\n",
              "    [theme=dark] .colab-df-convert {\n",
              "      background-color: #3B4455;\n",
              "      fill: #D2E3FC;\n",
              "    }\n",
              "\n",
              "    [theme=dark] .colab-df-convert:hover {\n",
              "      background-color: #434B5C;\n",
              "      box-shadow: 0px 1px 3px 1px rgba(0, 0, 0, 0.15);\n",
              "      filter: drop-shadow(0px 1px 2px rgba(0, 0, 0, 0.3));\n",
              "      fill: #FFFFFF;\n",
              "    }\n",
              "  </style>\n",
              "\n",
              "      <script>\n",
              "        const buttonEl =\n",
              "          document.querySelector('#df-6065300e-2938-4df0-b1db-532d60d0e33c button.colab-df-convert');\n",
              "        buttonEl.style.display =\n",
              "          google.colab.kernel.accessAllowed ? 'block' : 'none';\n",
              "\n",
              "        async function convertToInteractive(key) {\n",
              "          const element = document.querySelector('#df-6065300e-2938-4df0-b1db-532d60d0e33c');\n",
              "          const dataTable =\n",
              "            await google.colab.kernel.invokeFunction('convertToInteractive',\n",
              "                                                     [key], {});\n",
              "          if (!dataTable) return;\n",
              "\n",
              "          const docLinkHtml = 'Like what you see? Visit the ' +\n",
              "            '<a target=\"_blank\" href=https://colab.research.google.com/notebooks/data_table.ipynb>data table notebook</a>'\n",
              "            + ' to learn more about interactive tables.';\n",
              "          element.innerHTML = '';\n",
              "          dataTable['output_type'] = 'display_data';\n",
              "          await google.colab.output.renderOutput(dataTable, element);\n",
              "          const docLink = document.createElement('div');\n",
              "          docLink.innerHTML = docLinkHtml;\n",
              "          element.appendChild(docLink);\n",
              "        }\n",
              "      </script>\n",
              "    </div>\n",
              "  </div>\n",
              "  "
            ]
          },
          "metadata": {},
          "execution_count": 16
        }
      ]
    },
    {
      "cell_type": "markdown",
      "source": [
        "- `Iron_dealers_data.csv` : Consists of a directed graph where nodes represent Iron dealers and edges represent transactions between them. \n",
        "  - `Seller ID` : Node of the seller. \n",
        "  - `Buyer ID` : Node of the buyer.\n",
        "    - ⚠️ The ID are mapped in such a way that it starts from 0, for the sake of convenience without loss of generality.\n",
        "  - `Value` : Importance of transaction between the seller and the buyer.\n",
        "    - ⚠️ There are cases where there exists multiple links between the same two nodes. In those case, the links are consolidated buy summing up the values.\n",
        "  - Statistices :\n",
        "    - Unique nodes : `799`\n",
        "    - Nodes with no outgoing link : `96`\n",
        "- `bad.csv` : List of bad nodes for using as a seed set.\n",
        "  - Statistics : \n",
        "    - Bad nodes : `20`"
      ],
      "metadata": {
        "id": "Kir29kAyfzoK"
      }
    },
    {
      "cell_type": "markdown",
      "source": [
        "# C. Algorithm Used\n",
        "\n",
        "- TrustRank : TrustRank is a variation of PageRank (topic-specific PageRank) that introduces the notion of a set of trusted pages that act as seed nodes. The goal of TrustRank is to identify trustworthy pages on the web, and to demote spam pages, which link only to other spam pages. The idea is to start with a set of trusted seed nodes and iteratively propagate trust scores along the graph edges. In this work we leverage TrustRank to find bad nodes by using a set of oracle provided bad nodes as seed set. As a result, the resulting rank will be higher for bad nodes and lower for good nodes. Intuitively one can think of this as **DistrustRank**. \n",
        "  - Handling leakage : Nodes with no outlinks tend to accumulate the incoming values and cause leakage. This is solved in this work by connecting those nodes back to all the bad nodes with equal weightage. That way, the accumulated values are propagated back to the bad nodes equally.\n",
        "  - Equation : ?\n",
        "\n",
        "- Pregel : It is a distributed-computing framework developed by Google. The main use case of it that, it can handle graphs with large number of nodes distributed across a cluster of computers. It is designed in such a way that each vertex operates independently while maintaining its state, receiving messages from its neighboring vertices, and updating its state accordingly. While the current scenario doesnt requires for such scalable framework, this demonstrates the efficay of it. It must be noted that in this code each thread acts simulated the presence of multiple clusters of computers and each thread handles the communication of a subset of nodes\n",
        "\n",
        "- Hyperparameters :\n",
        "  - `num_threads` : `4`\n",
        "  - `damping_factor` : `0.85`\n",
        "  - `iterations` : `100`\n",
        "\n"
      ],
      "metadata": {
        "id": "JUjf651E4V0O"
      }
    },
    {
      "cell_type": "markdown",
      "source": [
        "### Support functions for Pregel Framework\n",
        "> ⚠️ Dont forget to execute this!"
      ],
      "metadata": {
        "id": "Wmg5x5AKyZi9"
      }
    },
    {
      "cell_type": "code",
      "source": [
        "\"\"\"pregel.py is a python 2.6 module implementing a toy single-machine\n",
        "version of Google's Pregel system for large-scale graph processing.\"\"\"\n",
        "\n",
        "import collections\n",
        "import threading\n",
        "import time\n",
        "\n",
        "class Vertex():\n",
        "\n",
        "    def __init__(self,id,value,out_vertices):\n",
        "        # This is mostly self-explanatory, but has a few quirks:\n",
        "        #\n",
        "        # self.id is included mainly because it's described in the\n",
        "        # Pregel paper.  It is used briefly in the pagerank example,\n",
        "        # but not in any essential way, and I was tempted to omit it.\n",
        "        #\n",
        "        # Each vertex stores the current superstep number in\n",
        "        # self.superstep.  It's arguably not wise to store many copies\n",
        "        # of global state in instance variables, but Pregel's\n",
        "        # synchronous nature lets us get away with it.\n",
        "        self.id = id \n",
        "        self.value = value\n",
        "        self.out_vertices = out_vertices\n",
        "        self.incoming_messages = []\n",
        "        self.outgoing_messages = []\n",
        "        self.active = True\n",
        "        self.superstep = 0\n",
        "   \n",
        "class Pregel():\n",
        "\n",
        "    def __init__(self,vertices,num_workers):\n",
        "        self.vertices = vertices\n",
        "        self.num_workers = num_workers\n",
        "\n",
        "    def run(self):\n",
        "        \"\"\"Runs the Pregel instance.\"\"\"\n",
        "        self.partition = self.partition_vertices()\n",
        "        while self.check_active():\n",
        "            self.superstep()\n",
        "            self.redistribute_messages()\n",
        "\n",
        "    # def partition_vertices(self):\n",
        "    #     \"\"\"Returns a dict with keys 0,...,self.num_workers-1\n",
        "    #     representing the worker threads.  The corresponding values are\n",
        "    #     lists of vertices assigned to that worker.\"\"\"\n",
        "    #     partition = collections.defaultdict(list)\n",
        "    #     for vertex in self.vertices:\n",
        "            \n",
        "    #         partition[self.worker(vertex)].append(vertex)\n",
        "    #     return partition\n",
        "    \n",
        "    def partition_vertices(self):\n",
        "        \"\"\"\n",
        "        Modified by us.\n",
        "        [x] there is a bug in the provided pregel code where all the vertices are run using a single worker \n",
        "        irrespective of the number of workers. This is because of the way the workers are assigned. I have replaced the hash based one \n",
        "        with equally distributing the vertex among the workers.\n",
        "\n",
        "        Returns a dict with keys 0,...,self.num_workers-1\n",
        "        representing the worker threads.  The corresponding values are\n",
        "        lists of vertices assigned to that worker.\n",
        "        \"\"\"\n",
        "        partition = collections.defaultdict(list)\n",
        "        each = len(self.vertices) // self.num_workers\n",
        "\n",
        "        for i in range(self.num_workers):\n",
        "            partition[i] = self.vertices[i*each: (i+1)*each]\n",
        "\n",
        "            if i == self.num_workers-1:\n",
        "                partition[i] = self.vertices[i*each: ]\n",
        "\n",
        "        return partition\n",
        "\n",
        "    # def worker(self,vertex):\n",
        "    #     \"\"\"Returns the id of the worker that vertex is assigned to.\"\"\"\n",
        "    #     return hash(vertex) % self.num_workers\n",
        "\n",
        "    def superstep(self):\n",
        "        \"\"\"Completes a single superstep.  \n",
        "\n",
        "        Note that in this implementation, worker threads are spawned,\n",
        "        and then destroyed during each superstep.  This creation and\n",
        "        destruction causes some overhead, and it would be better to\n",
        "        make the workers persistent, and to use a locking mechanism to\n",
        "        synchronize.  The Pregel paper suggests that this is how\n",
        "        Google's Pregel implementation works.\"\"\"\n",
        "        workers = []\n",
        "        for vertex_list in self.partition.values():\n",
        "            worker = Worker(vertex_list)\n",
        "            workers.append(worker)\n",
        "            #print(f\" Worker started with vertices list : {[v.id for v in vertex_list]}\")\n",
        "            worker.start()\n",
        "        for worker in workers:\n",
        "            worker.join()\n",
        "\n",
        "    def redistribute_messages(self):\n",
        "        \"\"\"Updates the message lists for all vertices.\"\"\"\n",
        "        for vertex in self.vertices:\n",
        "            vertex.superstep +=1\n",
        "            vertex.incoming_messages = []\n",
        "        for vertex in self.vertices:\n",
        "            for (receiving_vertix,message) in vertex.outgoing_messages:\n",
        "                receiving_vertix.incoming_messages.append((vertex,message))\n",
        "\n",
        "    def check_active(self):\n",
        "        \"\"\"Returns True if there are any active vertices, and False\n",
        "        otherwise.\"\"\"\n",
        "        return any([vertex.active for vertex in self.vertices])\n",
        "\n",
        "class Worker(threading.Thread):\n",
        "\n",
        "    def __init__(self,vertices):\n",
        "        threading.Thread.__init__(self)\n",
        "        self.vertices = vertices\n",
        "\n",
        "    def run(self):\n",
        "        self.superstep()\n",
        "        #time.sleep(10)\n",
        "        #print(f\" Worker completed superstep with vertices list : {[v.id for v in self.vertices]}\")\n",
        "        \n",
        "\n",
        "    def superstep(self):\n",
        "        \"\"\"Completes a single superstep for all the vertices in\n",
        "        self.\"\"\"\n",
        "        for vertex in self.vertices:\n",
        "            if vertex.active:\n",
        "                vertex.update() # main TrustRank computation is done here only\n",
        "\n",
        "\n",
        "\n"
      ],
      "metadata": {
        "id": "466QKFMgyk7p"
      },
      "execution_count": null,
      "outputs": []
    },
    {
      "cell_type": "markdown",
      "source": [
        "## Imports"
      ],
      "metadata": {
        "id": "Yb_V1xMZyzE4"
      }
    },
    {
      "cell_type": "code",
      "source": [
        "from numpy import mat, eye, zeros, ones, linalg\n",
        "import random\n",
        "import pandas as pd\n",
        "import numpy as np\n",
        "from collections import defaultdict, OrderedDict"
      ],
      "metadata": {
        "id": "X_2FinYdy4F5"
      },
      "execution_count": null,
      "outputs": []
    },
    {
      "cell_type": "markdown",
      "source": [
        "## Function descriptions\n",
        "\n",
        "- `intialTrustRank` :  Initiallizes the initial ranking based on the bad nodes.\n",
        "- `get_connections` : Get edges and creates graph.\n",
        "  - ⚠️ If there are no outgoing link, the messages will get accumulated at those nodes and cause leakage. This leakage is handled by creating synthetic outlink from these nodes to all the bad nodes with equal edge weights. This way the leaked values gets propagated back to the bad nodes equally.\n",
        "- `PregelTrustRank` : Compute Pagerank using pregel by assigning set of vertices to thread.\n",
        "  - ⚠️ There is a bug in the provided pregel code where all the vertices are run using a single worker irrespective of the number of workers. This is because of the way the workers are assigned. We have created a workaround by assigning equal number of vertices to each thread.\n",
        "- `TrustRankVertex` : Vertex class for TrustRank algorithm. Handles the propagation of trust across nodes.\n",
        "  - ⚠️ Outgoing messages earlier was divide equally by all outgoing links. Now it is instead multiplied by weightage of each link which is based on normed values of outgoing links."
      ],
      "metadata": {
        "id": "K2QWInY1zHxG"
      }
    },
    {
      "cell_type": "code",
      "source": [
        "def intialTrustRank(nodes, bad_nodes):\n",
        "    \"\"\"\n",
        "    Initiallizes the initial ranking based on the bad nodes.\n",
        "    \"\"\"\n",
        "    score = np.zeros(len(nodes))\n",
        "    for i in bad_nodes:\n",
        "        score[i] = 1/len(bad_nodes)\n",
        "    return list(score)\n",
        "\n",
        "\n",
        "def get_connections(edge_file, nodes_dict, nodes, bad_nodes):\n",
        "    \"\"\"\n",
        "    get edges - if there are no outgoing link, point it to all the bad nodes with equal weightage - handles leakage\n",
        "    \"\"\"\n",
        "    edges_mapped = defaultdict(list)\n",
        "    edges = defaultdict(list)\n",
        "    values = {}\n",
        "    for i in range(len(edge_file)):\n",
        "        from_, to_, value = int(edge_file.iloc[i][0]), int(edge_file.iloc[i][1]), int(edge_file.iloc[i][2])\n",
        "        if to_ not in edges[from_]:\n",
        "            edges[from_].append(to_)\n",
        "            edges_mapped[nodes_dict.get(from_)].append(nodes_dict.get(to_))\n",
        "        \n",
        "        if len(values.get(nodes_dict.get(from_), [])) == 0:\n",
        "            values[nodes_dict.get(from_)] = {}\n",
        "            values[nodes_dict.get(from_)][nodes_dict.get(to_)] = 0\n",
        "\n",
        "        values[nodes_dict.get(from_)][nodes_dict.get(to_)] = values[nodes_dict.get(from_)].get(nodes_dict.get(to_), 0) + value\n",
        "    \n",
        "    # handling leakage by connecting nodes back to the bad nodes with equal weigtage\n",
        "    empty = list(set(nodes).difference(set(edges_mapped.keys())))\n",
        "    for i in empty:\n",
        "        edges_mapped[i] = edges_mapped.get(i, []) + bad_nodes\n",
        "        values[i] = {}\n",
        "        for j in bad_nodes:\n",
        "          values[i][j] = 1\n",
        "\n",
        "    return edges, edges_mapped, values, nodes\n",
        "\n",
        "def PregelTrustRank(vertices):  \n",
        "    \"\"\"\n",
        "    Compute Pagerank using pregel by assing set of vertices to thread.\n",
        "\n",
        "    [x] there is a bug in the provided pregel code where all the vertices are run using a single worker \n",
        "    irrespective of the number of workers. This is because of the way the workers are assigned.\n",
        "    \"\"\"\n",
        "\n",
        "    p = Pregel(vertices, num_workers=4) \n",
        "    p.run()\n",
        "    return mat([vertex.value for vertex in p.vertices]).transpose(), p\n",
        "\n",
        "class TrustRankVertex(Vertex):\n",
        "    \"\"\" \n",
        "    Vertex class for TrustRank algorithm\n",
        "    \"\"\"\n",
        "    def __init__(self,id,value,out_vertices, weightage_values, dampingFactor=0.85,iterations=50):\n",
        "        Vertex.__init__(self,id,value,out_vertices)\n",
        "        self.dampingFactor = dampingFactor\n",
        "        self.num_supersteps = iterations\n",
        "        self.weightage_values = weightage_values\n",
        "        self.values_iterations = []\n",
        "        self.d = value  # this d is same as the 1/d in the TrustRank equation. The division has already been done outside this function. So we now have to just multiply this d.\n",
        "\n",
        "    def update(self):\n",
        "        \"\"\"\n",
        "        CHANGES MADE:\n",
        "        [x] Leakage is handled by connecting nodes with no outlinks back to bad nodes with equal weights\n",
        "        [x] Outgoing messages earlier was divide equally by all outgoing links. Now it is \n",
        "        instead multiplied by weightage of each link which is based on normed values of outgoing links.\n",
        "        \"\"\"\n",
        "        if self.superstep < self.num_supersteps:\n",
        "            messages_sum = 0\n",
        "            for (vertex,message) in self.incoming_messages:\n",
        "                messages_sum = messages_sum+message\n",
        "            self.value = self.dampingFactor*messages_sum +  (1-self.dampingFactor)*self.d   # this is the main equation of TrustRank (given in slides)\n",
        "            outgoing_message_all = [self.value*weight for weight in self.weightage_values]   # outgoing message is divided based on the weightage of each link\n",
        "            self.outgoing_messages = [(vertex,outgoing_message) for vertex, outgoing_message in zip(self.out_vertices, outgoing_message_all)]\n",
        "            self.values_iterations.append(self.value)\n",
        "        else:\n",
        "            self.active = False"
      ],
      "metadata": {
        "id": "seNl19IXzKNw"
      },
      "execution_count": null,
      "outputs": []
    },
    {
      "cell_type": "markdown",
      "source": [
        "## Main"
      ],
      "metadata": {
        "id": "yP8kcuok1gF0"
      }
    },
    {
      "cell_type": "markdown",
      "source": [
        "### 1. Load dataset"
      ],
      "metadata": {
        "id": "BZ4bncTv1juo"
      }
    },
    {
      "cell_type": "code",
      "source": [
        "df = pd.read_csv('/content/Iron_dealers_data.csv')\n",
        "\n",
        "# load nodes\n",
        "_bad_nodes = list(set(pd.read_csv('/content/bad.csv')[\"Bad Id\"]))\n",
        "_nodes  = list(set(list(set(df[\"Seller ID\"])) + list(set(df[\"Buyer ID\"])) ))"
      ],
      "metadata": {
        "id": "smeNmLg31wyX"
      },
      "execution_count": null,
      "outputs": []
    },
    {
      "cell_type": "markdown",
      "source": [
        "### 2. Map to change arbitary node name to begin from 0"
      ],
      "metadata": {
        "id": "CQi11JG817jA"
      }
    },
    {
      "cell_type": "code",
      "source": [
        "nodes_dict = dict(zip( _nodes, np.arange(len(_nodes))))\n",
        "\n",
        "# mapping nodes \n",
        "nodes = [nodes_dict.get(i) for i in _nodes]\n",
        "bad_nodes = [nodes_dict.get(i) for i in _bad_nodes]"
      ],
      "metadata": {
        "id": "tJMg-wlo1_cR"
      },
      "execution_count": null,
      "outputs": []
    },
    {
      "cell_type": "markdown",
      "source": [
        "### 3. Get edges"
      ],
      "metadata": {
        "id": "DtfFV8FO2CAR"
      }
    },
    {
      "cell_type": "code",
      "source": [
        "# if there are no outgoing link, create synthetic link to the bad nodes with equal weightage to prevent leakage\n",
        "edges, edges_mapped, values, nodes = get_connections(df, nodes_dict, nodes, bad_nodes)"
      ],
      "metadata": {
        "id": "tpgL1vyh2JQR"
      },
      "execution_count": null,
      "outputs": []
    },
    {
      "cell_type": "markdown",
      "source": [
        "### 4. Assign initial ranks for the nodes"
      ],
      "metadata": {
        "id": "BCZNA9A52PXW"
      }
    },
    {
      "cell_type": "code",
      "source": [
        "nodes_intial_ranks = intialTrustRank(nodes, bad_nodes) "
      ],
      "metadata": {
        "id": "lX50kSiJ2U-7"
      },
      "execution_count": null,
      "outputs": []
    },
    {
      "cell_type": "markdown",
      "source": [
        "### 5. Create the graph"
      ],
      "metadata": {
        "id": "I-fGc9Pd2cGG"
      }
    },
    {
      "cell_type": "code",
      "source": [
        "# intialize the vertices with modified Vertex class\n",
        "num_vertices = len(nodes)\n",
        "vertices = []\n",
        "for i in range(len(nodes)):\n",
        "    vertices.append(TrustRankVertex(nodes[i],nodes_intial_ranks[i],[],[], 0.85, 100))\n",
        "\n",
        "# assign out vertex with weightage for each node based on the values\n",
        "for i in edges_mapped.keys():\n",
        "    weightage = [j / sum(list(values[i].values())) for j in list(values[i].values())]\n",
        "    for j, k in zip(edges_mapped[i], weightage):\n",
        "        vertices[i].out_vertices.append(vertices[j])\n",
        "        vertices[i].weightage_values.append(k)\n"
      ],
      "metadata": {
        "id": "zEpo_kIm2khv"
      },
      "execution_count": null,
      "outputs": []
    },
    {
      "cell_type": "markdown",
      "source": [
        "### 6. Pagerank computation"
      ],
      "metadata": {
        "id": "DmvCxavz2qW2"
      }
    },
    {
      "cell_type": "code",
      "source": [
        "node_ranks, p = PregelTrustRank(vertices)\n",
        "\n",
        "print(f\"Pregel TrustRank result : \\n {dict(zip(nodes, node_ranks.A1))}\")"
      ],
      "metadata": {
        "id": "ZBl1gIrU1hlV",
        "colab": {
          "base_uri": "https://localhost:8080/"
        },
        "outputId": "4045bafc-d32e-44cf-d5ee-c285c4dfe6b0"
      },
      "execution_count": null,
      "outputs": [
        {
          "output_type": "stream",
          "name": "stdout",
          "text": [
            "Pregel TrustRank result : \n",
            " {0: 0.0, 1: 0.0, 2: 0.0, 3: 0.0, 4: 0.0, 5: 0.0, 6: 0.0, 7: 0.0, 8: 0.0, 9: 0.0, 10: 0.0, 11: 0.0, 12: 0.0, 13: 0.0, 14: 0.0, 15: 0.0, 16: 0.0, 17: 0.0, 18: 0.0, 19: 0.0, 20: 0.0, 21: 0.0, 22: 0.0, 23: 0.0, 24: 0.0, 25: 0.0, 26: 0.0, 27: 0.0, 28: 0.0, 29: 0.0, 30: 0.0, 31: 0.0, 32: 0.0, 33: 0.0, 34: 0.0, 35: 0.0, 36: 0.0, 37: 0.0, 38: 0.0, 39: 0.0, 40: 0.0, 41: 0.0, 42: 0.0, 43: 0.0, 44: 0.0, 45: 0.0, 46: 0.0, 47: 0.0, 48: 0.0, 49: 0.0, 50: 0.0, 51: 0.0, 52: 0.0, 53: 0.0, 54: 0.0, 55: 0.0, 56: 0.0, 57: 0.0, 58: 0.002217597861362711, 59: 0.0001287923860716262, 60: 0.0006221853788642068, 61: 0.004849059757441244, 62: 0.00743818206003184, 63: 0.0011335227109690136, 64: 0.037652297557761255, 65: 0.0025938098530750163, 66: 0.0, 67: 0.0006572905785515292, 68: 0.0194336863669079, 69: 0.0, 70: 0.004454692271669072, 71: 0.005484310473297076, 72: 0.0, 73: 0.010647308951172649, 74: 0.0, 75: 0.007616637874300342, 76: 3.0796807324749046e-05, 77: 0.002200663661647318, 78: 0.006782999511467157, 79: 0.0, 80: 0.0017529584628304554, 81: 5.758569862596469e-06, 82: 0.0015082549289154893, 83: 0.0004074543224084571, 84: 0.004990209905266292, 85: 0.0010295968064450906, 86: 6.468958370736784e-05, 87: 0.00055608658465475, 88: 0.0, 89: 6.270034993954176e-06, 90: 0.0007465717663516468, 91: 0.023195705419050194, 92: 0.0018407606241457944, 93: 0.0016420586543457352, 94: 0.007399361709033851, 95: 0.008577329458297383, 96: 0.020017319132340013, 97: 0.00044597162494116027, 98: 0.012140560274504796, 99: 0.019230323910055653, 100: 0.002618951328955495, 101: 0.0, 102: 0.008960750447877265, 103: 0.0, 104: 0.0, 105: 0.0037664377101267648, 106: 0.0063090983466846185, 107: 0.008546509756518873, 108: 0.0, 109: 4.619229837392001e-05, 110: 8.147301255851418e-05, 111: 0.0014121331044729026, 112: 6.3303023458319716e-06, 113: 0.001104573261988074, 114: 0.001146848928480241, 115: 2.978961839981404e-06, 116: 0.00010774843418172062, 117: 0.002370258840800404, 118: 4.773673357479026e-06, 119: 6.797885845678114e-05, 120: 0.0, 121: 0.000724741779792048, 122: 0.00033923660863578395, 123: 0.0, 124: 0.0006455211572471563, 125: 0.0051610233095987345, 126: 0.0, 127: 0.00021490984772792632, 128: 0.0009730725160338897, 129: 0.0024418915552450035, 130: 0.0003071014889787302, 131: 0.011670042120740945, 132: 0.0037174022465432314, 133: 0.01785003163205643, 134: 0.0013381493376574706, 135: 0.0, 136: 0.012788809652166385, 137: 0.00017228659404920014, 138: 0.0, 139: 0.0, 140: 0.0007445949721620965, 141: 0.007368786877749162, 142: 0.0003715355857284082, 143: 0.017891002460179987, 144: 0.0011277507182087592, 145: 0.04818736356921122, 146: 0.005043312225460466, 147: 0.0, 148: 0.0, 149: 0.00012685874764825557, 150: 0.0025170127388514877, 151: 0.015183683240961676, 152: 8.951535814702801e-05, 153: 3.157611271236298e-07, 154: 0.00503604160170094, 155: 0.013732203527539392, 156: 0.005175124567745994, 157: 0.002944347324657759, 158: 0.0, 159: 0.006652133160284134, 160: 0.00487499375799566, 161: 0.005279724610398176, 162: 0.0, 163: 0.000785070981539085, 164: 0.00974133726722632, 165: 0.0006490853902969255, 166: 0.001011768543891939, 167: 2.5451158866192578e-05, 168: 0.00251780921169363, 169: 2.2474189307093447e-05, 170: 0.000916632985149343, 171: 0.0, 172: 7.09934531386931e-06, 173: 0.00184709788885324, 174: 1.7663449195813699e-06, 175: 0.00019042773641876168, 176: 0.00011541886328670617, 177: 0.013220983973180531, 178: 0.0018965726309266668, 179: 2.168796854656839e-06, 180: 0.0001866120974365087, 181: 0.00039693554254178245, 182: 0.00033732447947022227, 183: 0.0014311875983340169, 184: 0.00105612807742565, 185: 0.0005135382567690701, 186: 0.0005494699211619357, 187: 0.0, 188: 0.0023166448848879755, 189: 0.0, 190: 0.0, 191: 0.004228396636786293, 192: 0.0008970412512290216, 193: 0.012649092737296985, 194: 0.004774436157001937, 195: 0.00018674182360162736, 196: 0.000630907900646136, 197: 0.0, 198: 0.0035926925443325037, 199: 0.04643451921870637, 200: 0.0, 201: 0.0, 202: 0.0146669727276641, 203: 0.0, 204: 0.0034195744885780195, 205: 0.0, 206: 0.0, 207: 0.00023690719869300987, 208: 0.0, 209: 2.0246754416787235e-05, 210: 0.00020566155173114606, 211: 0.00018605886655490006, 212: 0.0008383174455764565, 213: 0.0001363637564051096, 214: 0.0, 215: 0.0004558580152119108, 216: 0.0, 217: 0.010678150849127616, 218: 0.0, 219: 0.0, 220: 0.0020284181554756234, 221: 0.0, 222: 0.001227760009187687, 223: 0.0002532603785491028, 224: 0.005275917962713822, 225: 0.014283014094562967, 226: 0.001619438586362174, 227: 0.0, 228: 0.0, 229: 2.2709563841471613e-05, 230: 2.570437488061558e-05, 231: 0.00021067458944301902, 232: 0.004332438303581084, 233: 0.0008968137107720262, 234: 0.0, 235: 0.0013337822214080503, 236: 0.0, 237: 0.0, 238: 0.0010042649774176487, 239: 3.926492559894986e-05, 240: 0.00173031474071559, 241: 1.7829649571888054e-05, 242: 0.0, 243: 0.0, 244: 0.0055524502413653335, 245: 0.003040320613699968, 246: 0.0, 247: 0.0004283439730211209, 248: 0.0027042629018122696, 249: 0.0, 250: 0.0036522149121357463, 251: 0.00029536647030713956, 252: 0.013541779373427458, 253: 0.0, 254: 0.0, 255: 0.00015194936763518178, 256: 0.009960977304831021, 257: 5.060273356481888e-05, 258: 0.0, 259: 1.8236115947761605e-05, 260: 0.00019565406445281442, 261: 0.024525230223070182, 262: 0.0, 263: 0.0009110929190486134, 264: 0.0013424331303179167, 265: 0.0016215111338473299, 266: 0.00018841129937293834, 267: 0.0, 268: 8.499162914763025e-05, 269: 0.00033464617547625665, 270: 0.00019318278741688245, 271: 0.002083941942316125, 272: 0.0002005488497030356, 273: 0.0, 274: 0.004695753170364063, 275: 0.0024408547779959967, 276: 0.002053384873133174, 277: 0.0, 278: 0.0, 279: 0.0009756601937238128, 280: 5.710564055290423e-05, 281: 0.0, 282: 5.040701149802229e-05, 283: 0.0005656487197675605, 284: 0.0004084472496835877, 285: 0.0007817544949999194, 286: 0.0008987440200707843, 287: 0.004487312995495736, 288: 0.0, 289: 0.00010533310475731304, 290: 7.513870672304736e-05, 291: 0.00509919181960244, 292: 0.0, 293: 0.00551208660296719, 294: 0.0073395120074194985, 295: 0.00032002424988209556, 296: 0.0012820166796068987, 297: 0.0017554802441004395, 298: 0.0013273790655873071, 299: 0.00026504977718644064, 300: 0.0, 301: 2.117044238203728e-05, 302: 0.00010831896329024893, 303: 7.083766948213156e-05, 304: 0.008960750447877265, 305: 0.004501359148498747, 306: 0.008960750447877265, 307: 8.44946847226556e-06, 308: 5.8516973689123294e-05, 309: 0.0, 310: 0.0002634923081666762, 311: 0.0004734100702234693, 312: 0.00026945672510511, 313: 0.0001769547880619277, 314: 0.00039797176917172344, 315: 0.00029073771870408513, 316: 0.0, 317: 0.00024903476401139004, 318: 0.00044900082417323846, 319: 2.0266672451347998e-05, 320: 0.0, 321: 0.0, 322: 0.0050483118564204985, 323: 0.0015364209327318671, 324: 0.00430961013885829, 325: 0.006292031738898799, 326: 0.0006243075000045449, 327: 0.0, 328: 0.0, 329: 5.421622842554264e-05, 330: 3.71578841597679e-05, 331: 0.0, 332: 0.0009465286148856357, 333: 0.0001287256415115046, 334: 0.0, 335: 1.6333989103987714e-05, 336: 0.0, 337: 0.001376522619124527, 338: 0.0, 339: 0.0, 340: 0.0, 341: 0.0, 342: 0.0, 343: 0.0, 344: 0.0001691239745724396, 345: 0.0017263250409272255, 346: 0.0, 347: 3.971042099189508e-05, 348: 0.01685716400964995, 349: 0.004969237254805758, 350: 0.0009423389952471023, 351: 4.3063080015910235e-06, 352: 0.0, 353: 0.00013208073408205894, 354: 1.4191336035980787e-05, 355: 4.952395166037909e-05, 356: 4.21858802538621e-05, 357: 0.0007358319630448611, 358: 0.0022682223038205575, 359: 1.6950339536874103e-05, 360: 0.0, 361: 0.0006038655989863249, 362: 0.0004887097828636412, 363: 0.0, 364: 0.00595413179128099, 365: 0.004041381360158076, 366: 0.005532512997063669, 367: 0.0, 368: 0.0021421610449817306, 369: 0.00027517156995635154, 370: 0.0, 371: 0.0, 372: 0.0, 373: 0.0, 374: 0.00018429569760911347, 375: 0.0, 376: 6.929940079872278e-06, 377: 0.0006702190551328643, 378: 0.0005658395267562865, 379: 0.0001468430881890983, 380: 0.0, 381: 0.0, 382: 0.0, 383: 0.0, 384: 7.164595299811088e-05, 385: 0.002558511499705383, 386: 0.0, 387: 0.0, 388: 6.628243569114535e-05, 389: 0.0, 390: 0.0, 391: 0.0012572175531684637, 392: 0.00938126719170801, 393: 0.0, 394: 0.0005378804389097976, 395: 2.3247441512726125e-05, 396: 0.0, 397: 0.0, 398: 0.00017876396350681047, 399: 0.0, 400: 0.001117336361132992, 401: 0.005199549730407976, 402: 0.0021440213580809354, 403: 0.0, 404: 0.00029581912726979215, 405: 0.00010183493191122324, 406: 0.00011953047784246322, 407: 0.0007369614930509309, 408: 0.007221041203325688, 409: 0.0013960415980678246, 410: 1.765133667069543e-05, 411: 0.0025003511398735967, 412: 3.7657263507746116e-05, 413: 0.0, 414: 0.0, 415: 8.922832261555884e-05, 416: 0.0, 417: 0.0, 418: 0.000227410045519941, 419: 0.0, 420: 0.0, 421: 0.008960750447877265, 422: 0.0, 423: 0.0, 424: 0.0, 425: 1.0624451017657053e-05, 426: 0.00015371374895706286, 427: 0.0002496067246328947, 428: 0.00026062162028333836, 429: 0.0, 430: 5.217403269719334e-06, 431: 0.0007214886562729004, 432: 0.0005910458231968307, 433: 0.0005835501330222306, 434: 0.0, 435: 0.0, 436: 0.0, 437: 0.0, 438: 0.0, 439: 0.0, 440: 0.003327148331697521, 441: 0.0, 442: 0.0011396792342224234, 443: 0.0, 444: 0.001430547821473548, 445: 0.0005346228870604852, 446: 0.0, 447: 0.0011494104153604123, 448: 1.5277084448875836e-05, 449: 0.0009111715632027444, 450: 0.0, 451: 0.0003331303272180112, 452: 0.0007340557939706776, 453: 0.0, 454: 0.0, 455: 0.005556232391209794, 456: 0.0, 457: 0.0, 458: 0.0, 459: 0.0, 460: 0.0015040282945307593, 461: 0.0, 462: 0.0, 463: 0.0, 464: 0.0, 465: 0.0, 466: 0.0, 467: 0.0, 468: 0.00011884219744169689, 469: 0.0, 470: 0.0, 471: 0.0, 472: 0.00011602017452428584, 473: 0.0, 474: 9.424111917090343e-06, 475: 0.0, 476: 0.0, 477: 0.0, 478: 0.00025514752347330285, 479: 0.0, 480: 0.000418111825698111, 481: 0.0, 482: 0.0, 483: 0.0, 484: 0.003744770689667453, 485: 0.0, 486: 0.0012003527245342716, 487: 0.00012202457293686593, 488: 0.0, 489: 0.0, 490: 0.00948688686708853, 491: 9.548583416122317e-06, 492: 0.00048355916871115014, 493: 0.0, 494: 0.0, 495: 0.0, 496: 0.0, 497: 0.0, 498: 0.00013548087925781, 499: 0.0007156574132586771, 500: 0.0, 501: 6.369199777482387e-06, 502: 0.0, 503: 0.0, 504: 0.0020255209360244874, 505: 2.0355930596156823e-05, 506: 0.0, 507: 0.0, 508: 0.0, 509: 0.0, 510: 0.0016455315966867055, 511: 0.0, 512: 0.0, 513: 0.0, 514: 1.4752980309469946e-06, 515: 1.2241771418716607e-05, 516: 0.0013511172383793959, 517: 0.0, 518: 0.0, 519: 0.0, 520: 0.0, 521: 0.0011637092771119544, 522: 4.8619218682907316e-05, 523: 0.0, 524: 0.0006576117008419309, 525: 0.0, 526: 0.0, 527: 0.0, 528: 3.750509277019512e-05, 529: 0.0, 530: 0.0, 531: 0.0, 532: 2.707278088405163e-06, 533: 0.0, 534: 0.00014137713315832563, 535: 0.001016277793653606, 536: 3.174931732651401e-05, 537: 0.0, 538: 0.0, 539: 0.0, 540: 0.0, 541: 0.0, 542: 0.0, 543: 0.0, 544: 0.0, 545: 0.0, 546: 0.00010596644012820391, 547: 0.0, 548: 0.0001889823022928566, 549: 0.008960750447877265, 550: 0.001262529747005068, 551: 0.0002078840387485161, 552: 0.0, 553: 0.0, 554: 0.0, 555: 0.0004962146877143533, 556: 0.0, 557: 0.0, 558: 0.0, 559: 0.000555454236392712, 560: 0.0, 561: 0.0, 562: 0.003143751281945629, 563: 0.0, 564: 0.0, 565: 0.0, 566: 0.0, 567: 8.74718697638197e-06, 568: 0.0, 569: 0.0, 570: 0.0, 571: 0.0, 572: 0.0, 573: 0.0, 574: 0.0, 575: 0.0, 576: 0.0, 577: 0.0, 578: 0.0, 579: 0.0, 580: 0.0, 581: 0.0, 582: 0.0, 583: 0.0, 584: 0.0, 585: 0.0, 586: 0.0, 587: 0.010623854235434485, 588: 0.0, 589: 0.0, 590: 3.370632154633144e-05, 591: 0.0, 592: 0.0, 593: 0.0, 594: 0.0, 595: 0.0005377052406910327, 596: 0.0, 597: 0.0, 598: 0.0, 599: 0.0, 600: 0.0, 601: 0.0, 602: 0.0014694531040927755, 603: 0.0, 604: 0.0, 605: 0.0, 606: 0.0, 607: 0.0, 608: 0.0, 609: 0.0, 610: 0.008960750447877265, 611: 0.0, 612: 0.0, 613: 0.0, 614: 0.0, 615: 0.001260554757635891, 616: 0.0, 617: 0.0, 618: 0.0, 619: 0.0, 620: 0.0, 621: 0.0, 622: 0.0, 623: 0.0, 624: 0.0, 625: 0.0, 626: 0.0, 627: 0.0, 628: 0.0, 629: 0.0, 630: 2.6119302429253144e-05, 631: 0.0, 632: 0.0, 633: 0.0, 634: 0.0, 635: 0.0, 636: 0.0, 637: 0.0, 638: 0.0, 639: 0.0, 640: 0.0, 641: 0.0, 642: 0.0, 643: 5.493109461482991e-06, 644: 0.0, 645: 0.0, 646: 0.0, 647: 0.0, 648: 0.0, 649: 0.0, 650: 0.0, 651: 0.0, 652: 0.0, 653: 0.0, 654: 0.0, 655: 0.0, 656: 0.0, 657: 0.0, 658: 0.0, 659: 0.0, 660: 0.0, 661: 0.0, 662: 0.0, 663: 0.0, 664: 0.0, 665: 0.0, 666: 0.00043170205272744205, 667: 0.0, 668: 0.0005388525996638874, 669: 0.0, 670: 0.0, 671: 0.0, 672: 0.0, 673: 0.0, 674: 0.0, 675: 0.0, 676: 0.0013814503057162416, 677: 0.0, 678: 8.290952734404114e-05, 679: 0.0, 680: 9.979672756656638e-05, 681: 0.0, 682: 9.407005060562038e-06, 683: 0.0, 684: 0.0, 685: 0.0, 686: 0.008960750447877265, 687: 0.0, 688: 0.0, 689: 0.0, 690: 0.0, 691: 0.0, 692: 0.0, 693: 0.0, 694: 0.001908490243038389, 695: 0.0, 696: 0.0, 697: 0.0, 698: 0.0, 699: 0.0, 700: 0.0, 701: 0.0, 702: 0.0, 703: 0.0, 704: 2.1397967300814993e-05, 705: 0.008960750447877265, 706: 0.0, 707: 0.0, 708: 8.441638496884046e-05, 709: 0.0, 710: 0.0, 711: 0.0, 712: 0.0013358241973394126, 713: 0.0, 714: 0.0, 715: 0.0, 716: 0.0, 717: 0.0, 718: 0.0, 719: 0.0, 720: 0.0, 721: 0.0, 722: 0.0, 723: 0.0, 724: 0.0, 725: 0.0, 726: 0.0, 727: 0.0, 728: 0.0, 729: 0.0, 730: 0.0, 731: 0.0, 732: 0.0, 733: 0.0, 734: 0.0, 735: 0.0001188077815845399, 736: 0.0, 737: 0.0, 738: 0.0, 739: 0.0, 740: 0.0, 741: 0.0, 742: 0.0, 743: 0.0, 744: 0.0, 745: 0.0, 746: 0.0, 747: 0.0, 748: 0.0, 749: 0.0, 750: 0.0, 751: 0.0, 752: 0.0, 753: 0.0, 754: 0.008960750447877265, 755: 0.0, 756: 0.0, 757: 0.0, 758: 0.0, 759: 0.0, 760: 0.0, 761: 0.0, 762: 0.0, 763: 0.0, 764: 0.0, 765: 0.0, 766: 0.0, 767: 0.0, 768: 0.0, 769: 0.0, 770: 0.0, 771: 0.0, 772: 0.0, 773: 0.0, 774: 0.0, 775: 0.0, 776: 0.0, 777: 0.0, 778: 0.0, 779: 0.0, 780: 0.0, 781: 0.0, 782: 0.0, 783: 0.0, 784: 0.0, 785: 0.0, 786: 0.0, 787: 0.0, 788: 0.0, 789: 0.0, 790: 0.0, 791: 0.0, 792: 0.0, 793: 0.0, 794: 0.0, 795: 0.0, 796: 0.0, 797: 0.0, 798: 0.0}\n"
          ]
        }
      ]
    },
    {
      "cell_type": "markdown",
      "source": [
        "# D. Results\n",
        "\n",
        "The code takes a directed graph as input and computes the scores for each node in the graph. The output of the algorithm is a list of **DistrustRank** scores, one for each node in the graph. \n",
        "\n",
        "While there is no ground-truth data available for us to compare our results against, we can check the ranks of the oracle provided bad node which must be high if the algorithm worked perfectly.\n",
        "\n"
      ],
      "metadata": {
        "id": "lpP056Qk4t-K"
      }
    },
    {
      "cell_type": "code",
      "source": [
        "# sorted original node names according to TrustRank\n",
        "import matplotlib.pyplot as plt\n",
        "\n",
        "d = OrderedDict(zip(nodes, node_ranks.A1))\n",
        "\n",
        "res = list(OrderedDict(sorted(d.items(), key=lambda x: x[1], reverse=True)))\n",
        "\n",
        "ub = max(node_ranks.A1)\n",
        "mapping = dict(zip(res, np.arange(len(res))))\n",
        "mapping2 = sorted(node_ranks.A1, reverse=True)\n",
        "mapping3 = [mapping[i] for i in bad_nodes]\n",
        "\n",
        "plt.scatter(np.arange(len(res)), sorted(node_ranks.A1, reverse=True), label=\"TrustRank of all nodes\")\n",
        "plt.scatter([mapping[i] for i in bad_nodes], [mapping2[i] for i in mapping3], marker=\"*\", color=\"orange\", label=\"Known bad nodes\")\n",
        "plt.xlabel(\"Node ID (Remapped to 0-800)\")\n",
        "plt.ylabel(\"TrustRank\")\n",
        "plt.legend()\n",
        "plt.show()"
      ],
      "metadata": {
        "colab": {
          "base_uri": "https://localhost:8080/",
          "height": 450
        },
        "id": "akxcCj5E_uOC",
        "outputId": "0772b960-b842-4241-de1a-13c6e8e6a134"
      },
      "execution_count": null,
      "outputs": [
        {
          "output_type": "display_data",
          "data": {
            "text/plain": [
              "<Figure size 640x480 with 1 Axes>"
            ],
            "image/png": "[encoded data removed]"
          },
          "metadata": {}
        }
      ]
    },
    {
      "cell_type": "markdown",
      "source": [
        "From the plot above we can see that the majority of the ground-truth bad nodes have a higher scores. This shows that the algorithm has worked as intended."
      ],
      "metadata": {
        "id": "2zbvlp5TLlC5"
      }
    },
    {
      "cell_type": "code",
      "source": [
        "# histogram of all the node ranks\n",
        "import matplotlib.pyplot as plt\n",
        "\n",
        "d = OrderedDict(zip(nodes, node_ranks.A1))\n",
        "\n",
        "res = list(OrderedDict(sorted(d.items(), key=lambda x: x[1], reverse=True)))\n",
        "\n",
        "ub = max(node_ranks.A1)\n",
        "mapping = dict(zip(res, np.arange(len(res))))\n",
        "mapping2 = sorted(node_ranks.A1, reverse=True)\n",
        "mapping3 = [mapping[i] for i in bad_nodes]\n",
        "\n",
        "   \n",
        "plt.hist(node_ranks.A1, 20, \n",
        "                      density = 1, \n",
        "                      color ='green',\n",
        "                      alpha = 0.7)\n",
        "\n",
        "plt.xlabel(\"DisTrust Ranks\")\n",
        "plt.ylabel(\"Node Counts\")\n",
        "plt.show()"
      ],
      "metadata": {
        "colab": {
          "base_uri": "https://localhost:8080/",
          "height": 448
        },
        "id": "3-V2Fp2YCY0_",
        "outputId": "8806a3dd-fae4-49ac-beba-1f374988e480"
      },
      "execution_count": null,
      "outputs": [
        {
          "output_type": "display_data",
          "data": {
            "text/plain": [
              "<Figure size 640x480 with 1 Axes>"
            ],
            "image/png": "[encoded data removed]"
          },
          "metadata": {}
        }
      ]
    },
    {
      "cell_type": "markdown",
      "source": [
        "The above plot shows that most of the nodes have ranks between 0.00 and 0.01 while a few nodes have higher ranks indicating that the majority of the nodes are good nodes excluding a specific few."
      ],
      "metadata": {
        "id": "atp0PORtCpIy"
      }
    },
    {
      "cell_type": "code",
      "source": [
        "y = [i.values_iterations for i in p.vertices]\n",
        "bad_values = [node_ranks.A1[i] for i in bad_nodes]\n",
        "for i in y:\n",
        "  plt.plot(np.arange(len(i)), i)\n",
        "plt.scatter([len(i)]*len(bad_values), bad_values, marker=\"*\", color=\"black\", label=\"Known bad nodes\")\n",
        "plt.xlabel(\"Iterations\")\n",
        "plt.ylabel(\"TrustRank\")\n",
        "plt.legend()\n",
        "plt.show()"
      ],
      "metadata": {
        "colab": {
          "base_uri": "https://localhost:8080/",
          "height": 450
        },
        "id": "VyS2DqXvU7U2",
        "outputId": "8820890f-5ae9-42fe-d1e9-d97b44df0a5c"
      },
      "execution_count": null,
      "outputs": [
        {
          "output_type": "display_data",
          "data": {
            "text/plain": [
              "<Figure size 640x480 with 1 Axes>"
            ],
            "image/png": "[encoded data removed]"
          },
          "metadata": {}
        }
      ]
    },
    {
      "cell_type": "markdown",
      "source": [
        "The above plot shows the iteration-wise TrustRank of each nodes and also highlights the bad nodes. We can again observe that most of bad nodes of high rank similar to what we saw in the plot earlier. But we can also notice that there are some nodes which have a much higher score than the bad nodes. These are the predicted bad nodes and the authorities should start with probing these iron dealers for fraud."
      ],
      "metadata": {
        "id": "8L9DcHLYkm91"
      }
    }
  ]
}